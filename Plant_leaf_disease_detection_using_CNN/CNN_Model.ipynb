{
 "cells": [
  {
   "cell_type": "code",
   "execution_count": 1,
   "metadata": {},
   "outputs": [],
   "source": [
    "import cv2\n",
    "import numpy as np\n",
    "import pickle\n",
    "import matplotlib.pyplot as plt\n",
    "import tensorflow as tf\n",
    "from tensorflow import keras\n",
    "from tensorflow.keras.layers import Activation, Dense, Dropout, Conv2D, Flatten, MaxPooling2D\n",
    "from tensorflow.keras.models import Sequential\n",
    "from tensorflow.keras.models import model_from_json\n",
    "from tensorflow.keras.models import load_model"
   ]
  },
  {
   "cell_type": "code",
   "execution_count": 2,
   "metadata": {},
   "outputs": [],
   "source": [
    "X = np.array(pickle.load(open(\"X.pickle\", \"rb\")))\n",
    "y = np.array(pickle.load(open(\"y.pickle\", \"rb\")))\n",
    " "
   ]
  },
  {
   "cell_type": "code",
   "execution_count": 5,
   "metadata": {},
   "outputs": [],
   "source": [
    "X=X/255"
   ]
  },
  {
   "cell_type": "code",
   "execution_count": 10,
   "metadata": {},
   "outputs": [
    {
     "name": "stdout",
     "output_type": "stream",
     "text": [
      "Model: \"sequential_1\"\n",
      "_________________________________________________________________\n",
      "Layer (type)                 Output Shape              Param #   \n",
      "=================================================================\n",
      "conv2d_3 (Conv2D)            (None, 254, 254, 32)      896       \n",
      "_________________________________________________________________\n",
      "max_pooling2d_3 (MaxPooling2 (None, 127, 127, 32)      0         \n",
      "_________________________________________________________________\n",
      "conv2d_4 (Conv2D)            (None, 125, 125, 32)      9248      \n",
      "_________________________________________________________________\n",
      "dropout_1 (Dropout)          (None, 125, 125, 32)      0         \n",
      "_________________________________________________________________\n",
      "max_pooling2d_4 (MaxPooling2 (None, 62, 62, 32)        0         \n",
      "_________________________________________________________________\n",
      "conv2d_5 (Conv2D)            (None, 60, 60, 64)        18496     \n",
      "_________________________________________________________________\n",
      "dropout_2 (Dropout)          (None, 60, 60, 64)        0         \n",
      "_________________________________________________________________\n",
      "max_pooling2d_5 (MaxPooling2 (None, 30, 30, 64)        0         \n",
      "_________________________________________________________________\n",
      "dropout_3 (Dropout)          (None, 30, 30, 64)        0         \n",
      "_________________________________________________________________\n",
      "flatten_1 (Flatten)          (None, 57600)             0         \n",
      "_________________________________________________________________\n",
      "dense_2 (Dense)              (None, 128)               7372928   \n",
      "_________________________________________________________________\n",
      "dense_3 (Dense)              (None, 15)                1935      \n",
      "=================================================================\n",
      "Total params: 7,403,503\n",
      "Trainable params: 7,403,503\n",
      "Non-trainable params: 0\n",
      "_________________________________________________________________\n"
     ]
    }
   ],
   "source": [
    "model = Sequential()\n",
    "InputShape = X.shape[1:]\n",
    "model.add(Conv2D(32,(3,3),input_shape = InputShape,activation = 'relu'))\n",
    "\n",
    "model.add(MaxPooling2D(pool_size = (2,2)))\n",
    "\n",
    "model.add(Conv2D(32,(3,3),activation = 'relu'))\n",
    "\n",
    "model.add(Dropout(0.2))\n",
    "\n",
    "model.add(MaxPooling2D(pool_size = (2,2)))\n",
    "\n",
    "model.add(Conv2D(64,(3,3),activation = 'relu'))\n",
    "\n",
    "model.add(Dropout(0.2))\n",
    "\n",
    "model.add(MaxPooling2D(pool_size = (2,2)))\n",
    "\n",
    "model.add(Flatten())\n",
    "\n",
    "model.add(Dense(128))\n",
    "\n",
    "model.add(Dense(15, activation = 'softmax'))\n",
    "\n",
    "\n",
    "\n",
    "model.summary()\n"
   ]
  },
  {
   "cell_type": "code",
   "execution_count": 11,
   "metadata": {},
   "outputs": [],
   "source": [
    "model.compile(loss=\"sparse_categorical_crossentropy\",optimizer=\"adam\",metrics=[\"accuracy\"])"
   ]
  },
  {
   "cell_type": "code",
   "execution_count": 12,
   "metadata": {
    "scrolled": false
   },
   "outputs": [
    {
     "name": "stdout",
     "output_type": "stream",
     "text": [
      "Train on 18574 samples, validate on 2064 samples\n",
      "Epoch 1/15\n",
      "18574/18574 [==============================] - 58s 3ms/sample - loss: 1.0034 - accuracy: 0.6818 - val_loss: 0.7543 - val_accuracy: 0.7359\n",
      "Epoch 2/15\n",
      "18574/18574 [==============================] - 57s 3ms/sample - loss: 0.4638 - accuracy: 0.8481 - val_loss: 0.4243 - val_accuracy: 0.8585\n",
      "Epoch 3/15\n",
      "18574/18574 [==============================] - 81s 4ms/sample - loss: 0.3089 - accuracy: 0.8959 - val_loss: 0.5672 - val_accuracy: 0.8018\n",
      "Epoch 4/15\n",
      "18574/18574 [==============================] - 71s 4ms/sample - loss: 0.2132 - accuracy: 0.9274 - val_loss: 0.5430 - val_accuracy: 0.8091\n",
      "Epoch 5/15\n",
      "18574/18574 [==============================] - 74s 4ms/sample - loss: 0.1644 - accuracy: 0.9449 - val_loss: 0.4414 - val_accuracy: 0.8605\n",
      "Epoch 6/15\n",
      "18574/18574 [==============================] - 72s 4ms/sample - loss: 0.1369 - accuracy: 0.9567 - val_loss: 0.5316 - val_accuracy: 0.8382\n",
      "Epoch 7/15\n",
      "18574/18574 [==============================] - 65s 3ms/sample - loss: 0.1324 - accuracy: 0.9573 - val_loss: 0.5168 - val_accuracy: 0.8474\n",
      "Epoch 8/15\n",
      "18574/18574 [==============================] - 67s 4ms/sample - loss: 0.1169 - accuracy: 0.9615 - val_loss: 0.7956 - val_accuracy: 0.7994\n",
      "Epoch 9/15\n",
      "18574/18574 [==============================] - 66s 4ms/sample - loss: 0.1088 - accuracy: 0.9667 - val_loss: 0.5842 - val_accuracy: 0.8454\n",
      "Epoch 10/15\n",
      "18574/18574 [==============================] - 71s 4ms/sample - loss: 0.0984 - accuracy: 0.9694 - val_loss: 0.5158 - val_accuracy: 0.8542\n",
      "Epoch 11/15\n",
      "18574/18574 [==============================] - 67s 4ms/sample - loss: 0.0990 - accuracy: 0.9688 - val_loss: 0.5725 - val_accuracy: 0.8333\n",
      "Epoch 12/15\n",
      "18574/18574 [==============================] - 71s 4ms/sample - loss: 0.0868 - accuracy: 0.9738 - val_loss: 0.5721 - val_accuracy: 0.8561\n",
      "Epoch 13/15\n",
      "18574/18574 [==============================] - 74s 4ms/sample - loss: 0.0865 - accuracy: 0.9731 - val_loss: 0.5389 - val_accuracy: 0.8658\n",
      "Epoch 14/15\n",
      "18574/18574 [==============================] - 62s 3ms/sample - loss: 0.0806 - accuracy: 0.9765 - val_loss: 0.5924 - val_accuracy: 0.8692\n",
      "Epoch 15/15\n",
      "18574/18574 [==============================] - 70s 4ms/sample - loss: 0.0721 - accuracy: 0.9793 - val_loss: 0.5460 - val_accuracy: 0.8740\n",
      "Saved model to disk\n",
      "INFO:tensorflow:Assets written to: CNN.model\\assets\n"
     ]
    }
   ],
   "source": [
    "history = model.fit(X,y, batch_size = 16, epochs = 15, validation_split = 0.1)\n",
    "modelFile = model.to_json()\n",
    "file = open(\"model.json\", \"w\")\n",
    "file.write(modelFile)\n",
    "file.close()\n",
    "model.save_weights(\"model.h5\")\n",
    "print(\"Saved model to disk\")\n",
    "model.save('CNN.model')\n",
    "\n"
   ]
  },
  {
   "cell_type": "code",
   "execution_count": 13,
   "metadata": {},
   "outputs": [
    {
     "data": {
      "image/png": "[encoded data removed]",
      "text/plain": [
       "<Figure size 432x288 with 1 Axes>"
      ]
     },
     "metadata": {
      "needs_background": "light"
     },
     "output_type": "display_data"
    },
    {
     "data": {
      "text/plain": [
       "<matplotlib.legend.Legend at 0x17d0ac849c8>"
      ]
     },
     "execution_count": 13,
     "metadata": {},
     "output_type": "execute_result"
    },
    {
     "data": {
      "image/png": "[encoded data removed]",
      "text/plain": [
       "<Figure size 432x288 with 1 Axes>"
      ]
     },
     "metadata": {
      "needs_background": "light"
     },
     "output_type": "display_data"
    }
   ],
   "source": [
    "plt.plot(history.history['accuracy'])\n",
    "plt.plot(history.history['val_accuracy'])\n",
    "plt.title('Model accuracy')\n",
    "plt.ylabel('Accuracy')\n",
    "plt.xlabel('Epoch')\n",
    "plt.legend(['Train', 'Test'], loc='upper left')\n",
    "plt.show()\n",
    "\n",
    "# Plot training & validation loss values\n",
    "plt.plot(history.history['loss'])\n",
    "plt.plot(history.history['val_loss'])\n",
    "plt.title('Model loss')\n",
    "plt.ylabel('Loss')\n",
    "plt.xlabel('Epoch')\n",
    "plt.legend(['Train', 'Test'], loc='upper left')\n"
   ]
  },
  {
   "cell_type": "code",
   "execution_count": null,
   "metadata": {},
   "outputs": [],
   "source": []
  }
 ],
 "metadata": {
  "kernelspec": {
   "display_name": "Python 3",
   "language": "python",
   "name": "python3"
  },
  "language_info": {
   "codemirror_mode": {
    "name": "ipython",
    "version": 3
   },
   "file_extension": ".py",
   "mimetype": "text/x-python",
   "name": "python",
   "nbconvert_exporter": "python",
   "pygments_lexer": "ipython3",
   "version": "3.7.4"
  }
 },
 "nbformat": 4,
 "nbformat_minor": 2
}
